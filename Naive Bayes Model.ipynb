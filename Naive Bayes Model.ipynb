{
 "cells": [
  {
   "cell_type": "code",
   "execution_count": 2,
   "id": "245844d5",
   "metadata": {},
   "outputs": [
    {
     "name": "stdout",
     "output_type": "stream",
     "text": [
      "'data.frame':\t150 obs. of  5 variables:\n",
      " $ Sepal.Length: num  5.1 4.9 4.7 4.6 5 5.4 4.6 5 4.4 4.9 ...\n",
      " $ Sepal.Width : num  3.5 3 3.2 3.1 3.6 3.9 3.4 3.4 2.9 3.1 ...\n",
      " $ Petal.Length: num  1.4 1.4 1.3 1.5 1.4 1.7 1.4 1.5 1.4 1.5 ...\n",
      " $ Petal.Width : num  0.2 0.2 0.2 0.2 0.2 0.4 0.3 0.2 0.2 0.1 ...\n",
      " $ Species     : Factor w/ 3 levels \"setosa\",\"versicolor\",..: 1 1 1 1 1 1 1 1 1 1 ...\n"
     ]
    }
   ],
   "source": [
    "str(iris)"
   ]
  },
  {
   "cell_type": "markdown",
   "id": "970ad3ce",
   "metadata": {},
   "source": [
    "### Loading the popular Iris dataset "
   ]
  },
  {
   "cell_type": "code",
   "execution_count": 45,
   "id": "fbbff1f6",
   "metadata": {},
   "outputs": [],
   "source": [
    "data = iris"
   ]
  },
  {
   "cell_type": "markdown",
   "id": "785b6e3c",
   "metadata": {},
   "source": [
    "### Insatlling and loading the required package for estimating the Naive Bayes Model"
   ]
  },
  {
   "cell_type": "code",
   "execution_count": 7,
   "id": "ffcefc69",
   "metadata": {},
   "outputs": [
    {
     "name": "stderr",
     "output_type": "stream",
     "text": [
      "also installing the dependencies 'R.methodsS3', 'R.oo', 'R.utils', 'R.cache', 'styler', 'classInt', 'labelled', 'combinat', 'questionr'\n",
      "\n",
      "\n"
     ]
    },
    {
     "name": "stdout",
     "output_type": "stream",
     "text": [
      "package 'R.methodsS3' successfully unpacked and MD5 sums checked\n",
      "package 'R.oo' successfully unpacked and MD5 sums checked\n",
      "package 'R.utils' successfully unpacked and MD5 sums checked\n",
      "package 'R.cache' successfully unpacked and MD5 sums checked\n",
      "package 'styler' successfully unpacked and MD5 sums checked\n",
      "package 'classInt' successfully unpacked and MD5 sums checked\n",
      "package 'labelled' successfully unpacked and MD5 sums checked\n",
      "package 'combinat' successfully unpacked and MD5 sums checked\n",
      "package 'questionr' successfully unpacked and MD5 sums checked\n",
      "package 'klaR' successfully unpacked and MD5 sums checked\n",
      "\n",
      "The downloaded binary packages are in\n",
      "\tC:\\Users\\acer\\AppData\\Local\\Temp\\Rtmp4QPdCi\\downloaded_packages\n"
     ]
    }
   ],
   "source": [
    "install.packages('klaR')"
   ]
  },
  {
   "cell_type": "code",
   "execution_count": 8,
   "id": "70de2c05",
   "metadata": {},
   "outputs": [
    {
     "name": "stderr",
     "output_type": "stream",
     "text": [
      "Warning message:\n",
      "\"package 'klaR' was built under R version 4.3.1\"\n",
      "Loading required package: MASS\n",
      "\n"
     ]
    }
   ],
   "source": [
    "library(klaR)"
   ]
  },
  {
   "cell_type": "code",
   "execution_count": 46,
   "id": "51104dfb",
   "metadata": {},
   "outputs": [],
   "source": [
    "data <- data[1:149,]"
   ]
  },
  {
   "cell_type": "markdown",
   "id": "4df1f367",
   "metadata": {},
   "source": [
    "### Instantiating and Fitting the Naive Bayes Model "
   ]
  },
  {
   "cell_type": "code",
   "execution_count": 47,
   "id": "bfdfa6cb",
   "metadata": {},
   "outputs": [],
   "source": [
    "model <- NaiveBayes(Species~.,data=data)"
   ]
  },
  {
   "cell_type": "markdown",
   "id": "43149a06",
   "metadata": {},
   "source": [
    "### Extracting Conditional Probabilities"
   ]
  },
  {
   "cell_type": "code",
   "execution_count": 48,
   "id": "60d42134",
   "metadata": {},
   "outputs": [
    {
     "data": {
      "text/html": [
       "<dl>\n",
       "\t<dt>$Sepal.Length</dt>\n",
       "\t\t<dd><table class=\"dataframe\">\n",
       "<caption>A matrix: 3 × 2 of type dbl</caption>\n",
       "<tbody>\n",
       "\t<tr><th scope=row>setosa</th><td>5.006000</td><td>0.3524897</td></tr>\n",
       "\t<tr><th scope=row>versicolor</th><td>5.936000</td><td>0.5161711</td></tr>\n",
       "\t<tr><th scope=row>virginica</th><td>6.602041</td><td>0.6345897</td></tr>\n",
       "</tbody>\n",
       "</table>\n",
       "</dd>\n",
       "\t<dt>$Sepal.Width</dt>\n",
       "\t\t<dd><table class=\"dataframe\">\n",
       "<caption>A matrix: 3 × 2 of type dbl</caption>\n",
       "<tbody>\n",
       "\t<tr><th scope=row>setosa</th><td>3.428000</td><td>0.3790644</td></tr>\n",
       "\t<tr><th scope=row>versicolor</th><td>2.770000</td><td>0.3137983</td></tr>\n",
       "\t<tr><th scope=row>virginica</th><td>2.973469</td><td>0.3258166</td></tr>\n",
       "</tbody>\n",
       "</table>\n",
       "</dd>\n",
       "\t<dt>$Petal.Length</dt>\n",
       "\t\t<dd><table class=\"dataframe\">\n",
       "<caption>A matrix: 3 × 2 of type dbl</caption>\n",
       "<tbody>\n",
       "\t<tr><th scope=row>setosa</th><td>1.462000</td><td>0.1736640</td></tr>\n",
       "\t<tr><th scope=row>versicolor</th><td>4.260000</td><td>0.4699110</td></tr>\n",
       "\t<tr><th scope=row>virginica</th><td>5.561224</td><td>0.5537058</td></tr>\n",
       "</tbody>\n",
       "</table>\n",
       "</dd>\n",
       "\t<dt>$Petal.Width</dt>\n",
       "\t\t<dd><table class=\"dataframe\">\n",
       "<caption>A matrix: 3 × 2 of type dbl</caption>\n",
       "<tbody>\n",
       "\t<tr><th scope=row>setosa</th><td>0.246000</td><td>0.1053856</td></tr>\n",
       "\t<tr><th scope=row>versicolor</th><td>1.326000</td><td>0.1977527</td></tr>\n",
       "\t<tr><th scope=row>virginica</th><td>2.030612</td><td>0.2755329</td></tr>\n",
       "</tbody>\n",
       "</table>\n",
       "</dd>\n",
       "</dl>\n"
      ],
      "text/latex": [
       "\\begin{description}\n",
       "\\item[\\$Sepal.Length] A matrix: 3 × 2 of type dbl\n",
       "\\begin{tabular}{r|ll}\n",
       "\tsetosa & 5.006000 & 0.3524897\\\\\n",
       "\tversicolor & 5.936000 & 0.5161711\\\\\n",
       "\tvirginica & 6.602041 & 0.6345897\\\\\n",
       "\\end{tabular}\n",
       "\n",
       "\\item[\\$Sepal.Width] A matrix: 3 × 2 of type dbl\n",
       "\\begin{tabular}{r|ll}\n",
       "\tsetosa & 3.428000 & 0.3790644\\\\\n",
       "\tversicolor & 2.770000 & 0.3137983\\\\\n",
       "\tvirginica & 2.973469 & 0.3258166\\\\\n",
       "\\end{tabular}\n",
       "\n",
       "\\item[\\$Petal.Length] A matrix: 3 × 2 of type dbl\n",
       "\\begin{tabular}{r|ll}\n",
       "\tsetosa & 1.462000 & 0.1736640\\\\\n",
       "\tversicolor & 4.260000 & 0.4699110\\\\\n",
       "\tvirginica & 5.561224 & 0.5537058\\\\\n",
       "\\end{tabular}\n",
       "\n",
       "\\item[\\$Petal.Width] A matrix: 3 × 2 of type dbl\n",
       "\\begin{tabular}{r|ll}\n",
       "\tsetosa & 0.246000 & 0.1053856\\\\\n",
       "\tversicolor & 1.326000 & 0.1977527\\\\\n",
       "\tvirginica & 2.030612 & 0.2755329\\\\\n",
       "\\end{tabular}\n",
       "\n",
       "\\end{description}\n"
      ],
      "text/markdown": [
       "$Sepal.Length\n",
       ":   \n",
       "A matrix: 3 × 2 of type dbl\n",
       "\n",
       "| setosa | 5.006000 | 0.3524897 |\n",
       "| versicolor | 5.936000 | 0.5161711 |\n",
       "| virginica | 6.602041 | 0.6345897 |\n",
       "\n",
       "\n",
       "$Sepal.Width\n",
       ":   \n",
       "A matrix: 3 × 2 of type dbl\n",
       "\n",
       "| setosa | 3.428000 | 0.3790644 |\n",
       "| versicolor | 2.770000 | 0.3137983 |\n",
       "| virginica | 2.973469 | 0.3258166 |\n",
       "\n",
       "\n",
       "$Petal.Length\n",
       ":   \n",
       "A matrix: 3 × 2 of type dbl\n",
       "\n",
       "| setosa | 1.462000 | 0.1736640 |\n",
       "| versicolor | 4.260000 | 0.4699110 |\n",
       "| virginica | 5.561224 | 0.5537058 |\n",
       "\n",
       "\n",
       "$Petal.Width\n",
       ":   \n",
       "A matrix: 3 × 2 of type dbl\n",
       "\n",
       "| setosa | 0.246000 | 0.1053856 |\n",
       "| versicolor | 1.326000 | 0.1977527 |\n",
       "| virginica | 2.030612 | 0.2755329 |\n",
       "\n",
       "\n",
       "\n",
       "\n"
      ],
      "text/plain": [
       "$Sepal.Length\n",
       "               [,1]      [,2]\n",
       "setosa     5.006000 0.3524897\n",
       "versicolor 5.936000 0.5161711\n",
       "virginica  6.602041 0.6345897\n",
       "\n",
       "$Sepal.Width\n",
       "               [,1]      [,2]\n",
       "setosa     3.428000 0.3790644\n",
       "versicolor 2.770000 0.3137983\n",
       "virginica  2.973469 0.3258166\n",
       "\n",
       "$Petal.Length\n",
       "               [,1]      [,2]\n",
       "setosa     1.462000 0.1736640\n",
       "versicolor 4.260000 0.4699110\n",
       "virginica  5.561224 0.5537058\n",
       "\n",
       "$Petal.Width\n",
       "               [,1]      [,2]\n",
       "setosa     0.246000 0.1053856\n",
       "versicolor 1.326000 0.1977527\n",
       "virginica  2.030612 0.2755329\n"
      ]
     },
     "metadata": {},
     "output_type": "display_data"
    }
   ],
   "source": [
    "model$tables"
   ]
  },
  {
   "cell_type": "markdown",
   "id": "5e2fda72",
   "metadata": {},
   "source": [
    "### Testing Fitted Model on a new observation"
   ]
  },
  {
   "cell_type": "code",
   "execution_count": 51,
   "id": "5047f642",
   "metadata": {},
   "outputs": [
    {
     "data": {
      "text/html": [
       "<dl>\n",
       "\t<dt>$class</dt>\n",
       "\t\t<dd><strong>NA:</strong> setosa\n",
       "<details>\n",
       "\t<summary style=display:list-item;cursor:pointer>\n",
       "\t\t<strong>Levels</strong>:\n",
       "\t</summary>\n",
       "\t<style>\n",
       "\t.list-inline {list-style: none; margin:0; padding: 0}\n",
       "\t.list-inline>li {display: inline-block}\n",
       "\t.list-inline>li:not(:last-child)::after {content: \"\\00b7\"; padding: 0 .5ex}\n",
       "\t</style>\n",
       "\t<ol class=list-inline><li>'setosa'</li><li>'versicolor'</li><li>'virginica'</li></ol>\n",
       "</details></dd>\n",
       "\t<dt>$posterior</dt>\n",
       "\t\t<dd><table class=\"dataframe\">\n",
       "<caption>A matrix: 1 × 3 of type dbl</caption>\n",
       "<thead>\n",
       "\t<tr><th></th><th scope=col>setosa</th><th scope=col>versicolor</th><th scope=col>virginica</th></tr>\n",
       "</thead>\n",
       "<tbody>\n",
       "\t<tr><th scope=row>NA</th><td>0.3355705</td><td>0.3355705</td><td>0.3288591</td></tr>\n",
       "</tbody>\n",
       "</table>\n",
       "</dd>\n",
       "</dl>\n"
      ],
      "text/latex": [
       "\\begin{description}\n",
       "\\item[\\$class] \\textbf{NA:} setosa\n",
       "\\emph{Levels}: \\begin{enumerate*}\n",
       "\\item 'setosa'\n",
       "\\item 'versicolor'\n",
       "\\item 'virginica'\n",
       "\\end{enumerate*}\n",
       "\n",
       "\\item[\\$posterior] A matrix: 1 × 3 of type dbl\n",
       "\\begin{tabular}{r|lll}\n",
       "  & setosa & versicolor & virginica\\\\\n",
       "\\hline\n",
       "\tNA & 0.3355705 & 0.3355705 & 0.3288591\\\\\n",
       "\\end{tabular}\n",
       "\n",
       "\\end{description}\n"
      ],
      "text/markdown": [
       "$class\n",
       ":   **NA:** setosa\n",
       "**Levels**: 1. 'setosa'\n",
       "2. 'versicolor'\n",
       "3. 'virginica'\n",
       "\n",
       "\n",
       "\n",
       "$posterior\n",
       ":   \n",
       "A matrix: 1 × 3 of type dbl\n",
       "\n",
       "| <!--/--> | setosa | versicolor | virginica |\n",
       "|---|---|---|---|\n",
       "| NA | 0.3355705 | 0.3355705 | 0.3288591 |\n",
       "\n",
       "\n",
       "\n",
       "\n"
      ],
      "text/plain": [
       "$class\n",
       "    NA \n",
       "setosa \n",
       "Levels: setosa versicolor virginica\n",
       "\n",
       "$posterior\n",
       "      setosa versicolor virginica\n",
       "NA 0.3355705  0.3355705 0.3288591\n"
      ]
     },
     "metadata": {},
     "output_type": "display_data"
    }
   ],
   "source": [
    "x <- data[150,-5]\n",
    "predict(model,x)"
   ]
  },
  {
   "cell_type": "code",
   "execution_count": null,
   "id": "99de75b4",
   "metadata": {},
   "outputs": [],
   "source": []
  }
 ],
 "metadata": {
  "kernelspec": {
   "display_name": "R",
   "language": "R",
   "name": "ir"
  },
  "language_info": {
   "codemirror_mode": "r",
   "file_extension": ".r",
   "mimetype": "text/x-r-source",
   "name": "R",
   "pygments_lexer": "r",
   "version": "4.3.0"
  },
  "vp": {
   "vp_config_version": "1.0.0",
   "vp_menu_width": 273,
   "vp_note_display": false,
   "vp_note_width": 0,
   "vp_position": {
    "width": 278
   },
   "vp_section_display": false,
   "vp_signature": "VisualPython"
  }
 },
 "nbformat": 4,
 "nbformat_minor": 5
}
